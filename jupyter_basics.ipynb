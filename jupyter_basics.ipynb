{
 "cells": [
  {
   "cell_type": "markdown",
   "metadata": {},
   "source": [
    "# Hello, World!"
   ]
  },
  {
   "cell_type": "markdown",
   "metadata": {},
   "source": [
    "Welcome Students with a capital S!"
   ]
  },
  {
   "cell_type": "markdown",
   "metadata": {},
   "source": [
    "This first lesson is on our environment. \n",
    "\n",
    "First things first, we're using Jupyter. Jupyter is a smash up of \"Julia, Python, Tensorflow, R.\" To execute code in Jupyter: hold down `Shift` and press `Enter`. \n",
    "\n",
    "Try it on this cell below:"
   ]
  },
  {
   "cell_type": "code",
   "execution_count": 1,
   "metadata": {},
   "outputs": [
    {
     "name": "stdout",
     "output_type": "stream",
     "text": [
      "Hello, World!\n"
     ]
    }
   ],
   "source": [
    "print(\"Hello, World!\")"
   ]
  },
  {
   "cell_type": "markdown",
   "metadata": {},
   "source": [
    "You'll notice that right below the gray of the cell, the words `Hello, World!` appeared. Congrats! You just executed your first bit of Python and didn't break your computer. It only gets easier from here. I swear 😜"
   ]
  },
  {
   "cell_type": "markdown",
   "metadata": {},
   "source": [
    "The more formal idea of what is going on underneath the hood here is similar to the concept of a REPL (read evaluate print loop). Jupyter reads your code, evaluates, and \"prints\" the output right below the cell. We're using jupyter because it's a really fast way to write code and see if we made any errors"
   ]
  },
  {
   "cell_type": "markdown",
   "metadata": {},
   "source": [
    "## Assigning Variables"
   ]
  },
  {
   "cell_type": "markdown",
   "metadata": {},
   "source": [
    "We start with variables. In order to assign a data type (we'll go over common data types in Python in just a moment), you use the `operator` which is the equal sign"
   ]
  },
  {
   "cell_type": "markdown",
   "metadata": {},
   "source": [
    "Run this cell below to assign the number 1 to a variable that we are calling \"the_first_variable.\""
   ]
  },
  {
   "cell_type": "code",
   "execution_count": 2,
   "metadata": {
    "collapsed": true
   },
   "outputs": [],
   "source": [
    "the_first_variable = 1"
   ]
  },
  {
   "cell_type": "markdown",
   "metadata": {},
   "source": [
    "Nothing is outputted (because we didn't have a print statement), but now we have an `object` which is assigned to the number 1. Python has an object-oriented nature which allows us to do things with data types. This variable is stored in memory while this Jupyter notebook is open."
   ]
  },
  {
   "cell_type": "markdown",
   "metadata": {},
   "source": [
    "Notice that we have the underscores between words for our variable names. Spaces in variables will just absolutely cause the universe to collapse on itself. So don't include spaces between words anymore: in variable names, or your filenames. Another common approach is to use \"camelCase\" wherein you lowercase the first word, then Capitalize The First Letter Of Each Subsequent Word. If we did camelCase with our variable for example, it would look like: theFirstVariable. "
   ]
  },
  {
   "cell_type": "markdown",
   "metadata": {},
   "source": [
    "Back to our variable. Our variable is assigned to a number (specifically, an integer). Remember how we can do stuff with these objects? \n",
    "\n",
    "We can use Python like a calculator:"
   ]
  },
  {
   "cell_type": "code",
   "execution_count": 3,
   "metadata": {},
   "outputs": [
    {
     "data": {
      "text/plain": [
       "3"
      ]
     },
     "execution_count": 3,
     "metadata": {},
     "output_type": "execute_result"
    }
   ],
   "source": [
    "the_first_variable + 2"
   ]
  },
  {
   "cell_type": "code",
   "execution_count": 4,
   "metadata": {},
   "outputs": [
    {
     "data": {
      "text/plain": [
       "-3"
      ]
     },
     "execution_count": 4,
     "metadata": {},
     "output_type": "execute_result"
    }
   ],
   "source": [
    "the_first_variable - 4"
   ]
  },
  {
   "cell_type": "markdown",
   "metadata": {},
   "source": [
    "But since we have a variable assigned to a data type, we have attributes and methods attached to this object which are built into this object, and given to us by Python. Neat!\n",
    "\n",
    "Another handy tool of Jupyter is Tab-Completion. Press the tab button after the period in the next cell and check out all of the available methods"
   ]
  },
  {
   "cell_type": "code",
   "execution_count": null,
   "metadata": {
    "collapsed": true
   },
   "outputs": [],
   "source": [
    "the_first_variable."
   ]
  },
  {
   "cell_type": "markdown",
   "metadata": {},
   "source": [
    "Cool. Let's go over some other common data types we'll see during our time together as well as the methods and attributes attached to those 😀"
   ]
  },
  {
   "cell_type": "markdown",
   "metadata": {},
   "source": [
    "## Python Data Types"
   ]
  },
  {
   "cell_type": "markdown",
   "metadata": {},
   "source": [
    "There are 5 data types we'll encounter. We're going over these because at a low level, these make up the building blocks of everything we're about to do in programming in Python! "
   ]
  },
  {
   "cell_type": "markdown",
   "metadata": {},
   "source": [
    "1. Strings\n",
    "2. Integers\n",
    "3. Floats\n",
    "4. Lists\n",
    "5. Dictionaries"
   ]
  },
  {
   "cell_type": "markdown",
   "metadata": {},
   "source": [
    "#### Strings\n",
    "Are virtually any character between quotes. Usually they are a way to store text. In python, we can use single quotes or double quotes for strings"
   ]
  },
  {
   "cell_type": "markdown",
   "metadata": {},
   "source": [
    "Try assigning any string with at least three words in it to a varible called `some_string_thing`"
   ]
  },
  {
   "cell_type": "code",
   "execution_count": null,
   "metadata": {
    "collapsed": true
   },
   "outputs": [],
   "source": []
  },
  {
   "cell_type": "markdown",
   "metadata": {},
   "source": [
    "Strings have methods and attributes in them that are really neato and helpful. Press tab after the period in `some_string_thing` and check them out"
   ]
  },
  {
   "cell_type": "code",
   "execution_count": null,
   "metadata": {
    "collapsed": true
   },
   "outputs": [],
   "source": []
  },
  {
   "cell_type": "markdown",
   "metadata": {},
   "source": [
    "Try to capitalize your string. Type `some_string_thing.capitalize()` "
   ]
  },
  {
   "cell_type": "code",
   "execution_count": null,
   "metadata": {},
   "outputs": [],
   "source": []
  },
  {
   "cell_type": "markdown",
   "metadata": {},
   "source": [
    "You can capitalize each word. Run `some_string_thing.title()`"
   ]
  },
  {
   "cell_type": "code",
   "execution_count": null,
   "metadata": {},
   "outputs": [],
   "source": []
  },
  {
   "cell_type": "markdown",
   "metadata": {},
   "source": [
    "You can `index` strings (just like you do lists, which we'll explore in a second).  This means you can access certain characters of your string. Try running this cell:"
   ]
  },
  {
   "cell_type": "code",
   "execution_count": 13,
   "metadata": {},
   "outputs": [],
   "source": [
    "some_string_thing[1]"
   ]
  },
  {
   "cell_type": "markdown",
   "metadata": {},
   "source": [
    "Python's index starts at the number 0. This means that if you want the first character of your string, you would run `some_string_thing[0]` and running `some_string_thing[1]` returns the second character of your string!"
   ]
  },
  {
   "cell_type": "markdown",
   "metadata": {},
   "source": [
    "You can also access a few characters at a time. This is how you would access the first through 3rd characters of your string:"
   ]
  },
  {
   "cell_type": "code",
   "execution_count": 12,
   "metadata": {},
   "outputs": [],
   "source": [
    "some_string_thing[0:3]"
   ]
  },
  {
   "cell_type": "markdown",
   "metadata": {},
   "source": [
    "Also useful to us is concatenating strings! An easy way to go about this looks like a math equation. First, let's create another string with the variable name `other_string_thing`"
   ]
  },
  {
   "cell_type": "code",
   "execution_count": 16,
   "metadata": {
    "collapsed": true
   },
   "outputs": [],
   "source": [
    "other_string_thing = \" is full of awesomeness!\""
   ]
  },
  {
   "cell_type": "markdown",
   "metadata": {},
   "source": [
    "Then concatenate those by putting the `+` operator between the two"
   ]
  },
  {
   "cell_type": "code",
   "execution_count": 17,
   "metadata": {},
   "outputs": [
    {
     "data": {
      "text/plain": [
       "'my awesome string is full of awesomeness!'"
      ]
     },
     "execution_count": 17,
     "metadata": {},
     "output_type": "execute_result"
    }
   ],
   "source": [
    "some_string_thing + other_string_thing"
   ]
  },
  {
   "cell_type": "markdown",
   "metadata": {},
   "source": [
    "### Lists\n",
    "Are a way to store other datatypes."
   ]
  },
  {
   "cell_type": "markdown",
   "metadata": {},
   "source": [
    "Remember how we said we can \"index\" a string like a list? Picture a line of boxes on a conveyor belt. This group of ordered boxes is like a list. We can put a bunch of different things in those boxes, like we can put other data types into our list. "
   ]
  }
 ],
 "metadata": {
  "kernelspec": {
   "display_name": "Python 3",
   "language": "python",
   "name": "python3"
  },
  "language_info": {
   "codemirror_mode": {
    "name": "ipython",
    "version": 3
   },
   "file_extension": ".py",
   "mimetype": "text/x-python",
   "name": "python",
   "nbconvert_exporter": "python",
   "pygments_lexer": "ipython3",
   "version": "3.6.3"
  }
 },
 "nbformat": 4,
 "nbformat_minor": 2
}
